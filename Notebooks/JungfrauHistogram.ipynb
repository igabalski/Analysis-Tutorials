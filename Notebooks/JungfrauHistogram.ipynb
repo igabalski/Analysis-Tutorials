{
 "cells": [
  {
   "cell_type": "code",
   "execution_count": null,
   "metadata": {},
   "outputs": [],
   "source": [
    "import numpy as np\n",
    "import psana\n",
    "import matplotlib.pyplot as plt\n",
    "import time\n",
    "import random"
   ]
  },
  {
   "cell_type": "code",
   "execution_count": null,
   "metadata": {},
   "outputs": [],
   "source": [
    "experiment='cxilw1118'\n",
    "runNumber=30\n",
    "\n",
    "import os\n",
    "os.environ['INSTALLPATH']= '/cds/home/i/igabalsk/TRXS-Run18'\n",
    "os.environ['OUTPUTPATH']= '/cds/data/psdm/%s/%s/scratch' % (experiment[0:3],experiment)"
   ]
  },
  {
   "cell_type": "code",
   "execution_count": null,
   "metadata": {},
   "outputs": [],
   "source": [
    "# Magic iPython command to enable plotting\n",
    "%matplotlib inline\n",
    "\n",
    "# Load in the pythonBatchMagic library\n",
    "import sys\n",
    "sys.path.insert(0, os.environ['INSTALLPATH']+'/Libraries/pythonBatchMagic')\n",
    "from pythonBatchMagic import *\n",
    "\n",
    "# Determine current user\n",
    "currentUser, error = unixCMD(\"echo $USER\")\n",
    "currentUser = currentUser.strip()\n",
    "print(currentUser)\n",
    "os.environ['RESULTSPATH']= ('/cds/data/psdm/%s/%s/results/%s' % (experiment[0:3],experiment,currentUser)).strip()\n",
    "if not os.path.exists(os.environ['RESULTSPATH']):\n",
    "    os.mkdir(os.environ['RESULTSPATH'])\n",
    "\n",
    "sys.path.insert(0, os.environ['INSTALLPATH']+'/Libraries/LCLS')\n",
    "from LCLSdefault import *\n",
    "\n",
    "sys.path.insert(0, os.environ['INSTALLPATH']+'/Libraries/mattsLibraries')\n",
    "from picklez import *\n",
    "\n",
    "# Load in the get data library\n",
    "from dataAnalysis import *\n",
    "\n",
    "# Load in the batch library for lcls\n",
    "from lclsBatch import *"
   ]
  },
  {
   "cell_type": "code",
   "execution_count": null,
   "metadata": {},
   "outputs": [],
   "source": [
    "detDict = {\n",
    "    'uvint':{'name': 'Acqiris','get-function':'getAcqirisSum2'},\n",
    "           'uvint1':{'name': 'Acqiris','get-function':'getAcqirisSum1'},\n",
    "           'gasPressure':{'name': 'CXI:MKS670:READINGGET','get-function':'getGasPressure'},\n",
    "           'xrayEnergy':{'name':'FEEGasDetEnergy','get-function': 'getXrayEnergy' },\n",
    "           'ebeamcharge':{'name':'EBeam', 'get-function': 'getEbeamCharge'},\n",
    "          'stageencoder':{'name':'CXI:LAS:MMN:04.RBV','get-function':'getStageEncoder'},\n",
    "          'ttfltpos':{'name':'CXI:TIMETOOL:FLTPOS', 'get-function': 'getTTFltPos'},\n",
    "#           'vitpos':{'name':'LAS:FS5:VIT:FS_TGT_TIME_DIAL', 'get-function': 'getTTFltPos'},\n",
    "#            'xint':{'name':'CxiDg3_Imb01','get-function': 'getIPM' },\n",
    "#            'xpos':{'name':'CxiDg3_Imb01','get-function': 'getXPos' },\n",
    "#            'ypos':{'name':'CxiDg3_Imb01','get-function': 'getYPos' },\n",
    "          'seconds':{'name':'seconds', 'get-function': 'getSeconds'},\n",
    "          'nanoseconds':{'name':'nanonseconds', 'get-function': 'getNanoseconds'},\n",
    "          'fiducials':{'name':'fiducials', 'get-function': 'getFiducials'},\n",
    "            'cspad':{'name':'jungfrau4M','get-function':'getCSPAD'}\n",
    "#           'rois':{'name':'jungfrau4M', 'get-function': 'getRadialrois'},\n",
    "#           'laserOn':{'name':'evr1', 'get-function': 'getLaserOn'},\n",
    "#           'xrayOn':{'name':'evr1', 'get-function': 'getXrayOn'},\n",
    "#           'photonHist':{'name':'jungfrau4M', 'get-function': 'getPhotonHistogram'}\n",
    "          }\n",
    "\n",
    "print 'exp=%s:run=%d:smd' % (experiment , runNumber) \n",
    "ds = psana.DataSource('exp=%s:run=%d:smd' % (experiment , runNumber) )\n",
    "eventMax = 50000\n",
    "events = ds.events()\n"
   ]
  },
  {
   "cell_type": "markdown",
   "metadata": {},
   "source": [
    "### Grab some images"
   ]
  },
  {
   "cell_type": "code",
   "execution_count": null,
   "metadata": {
    "scrolled": true
   },
   "outputs": [],
   "source": [
    "n_images = 30\n",
    "images = np.zeros((8,512,1024,n_images))\n",
    "jf = psana.Detector('jungfrau4M')\n",
    "tt = psana.Detector('CXI:TIMETOOL:FLTPOS')\n",
    "dg3 = Detector('CXI-DG3-BMMON')\n",
    "dg3_vals = []\n",
    "n_filled = 0\n",
    "for i, evt in enumerate(ds.events()):\n",
    "    if n_filled==n_images:\n",
    "        break\n",
    "    evtId = evt.get(EventId)\n",
    "    seconds = evtId.time()[0]\n",
    "    tt_val = tt(evt)\n",
    "#     print seconds, tt_val\n",
    "    if i%10==0:\n",
    "        print i\n",
    "    image = jf.calib(evt)\n",
    "    dg3_event = dg3.get(evt)\n",
    "    if dg3_event is None:\n",
    "        print 'its none'\n",
    "        continue\n",
    "    xint = np.abs(dg3_event.TotalIntensity())\n",
    "    print 'xint',xint\n",
    "    if xint<11000:\n",
    "        continue\n",
    "#     if image is not None:\n",
    "#         print 'good at',i\n",
    "    image[(image<0)|(image>1000)]=0\n",
    "    images[:,:,:,n_filled] = image\n",
    "    dg3_vals.append(xint)\n",
    "    n_filled += 1\n",
    "print images.shape"
   ]
  },
  {
   "cell_type": "code",
   "execution_count": null,
   "metadata": {},
   "outputs": [],
   "source": [
    "images_thres = np.copy(images)\n",
    "images_thres[(images_thres<100)|(images_thres>1000)]=0\n",
    "x,y = CSPADgeometry(detType='Jungfrau', experiment=experiment, run=runNumber)\n",
    "cspadMask = np.ones_like(x).astype(bool)\n",
    "plotCSPAD(np.sum(images_thres,axis=-1),x,y, cspadMask=cspadMask,zLims=[0,500])\n",
    "# savefig('dark_jungfrau.png')"
   ]
  },
  {
   "cell_type": "code",
   "execution_count": null,
   "metadata": {},
   "outputs": [],
   "source": [
    "one_photon = 600\n",
    "hists, bins = np.histogram(images[(images>100)&(images<1000)],bins=1000)\n",
    "num_photons = np.sum(hists*bins[:-1]/one_photon)/n_images\n",
    "plt.figure()\n",
    "plt.plot(bins[:-1],hists*bins[:-1]/one_photon/n_images,label='%.0f photons/image' % num_photons)\n",
    "plt.xlabel('Pixel value (%d=1 xray)' % one_photon)\n",
    "plt.ylabel('Counts')\n",
    "plt.title('%s Run %d, mean(xint)=%.3f' % (experiment, runNumber,np.mean(dg3_vals)))\n",
    "plt.legend()\n",
    "plt.savefig('%s-run-%d_photonhist.png' % (experiment, runNumber))\n",
    "plt.show()\n",
    "# This should be the number of X-rays that hit per image"
   ]
  },
  {
   "cell_type": "markdown",
   "metadata": {},
   "source": [
    "### Histogram each tile over all grabbed images"
   ]
  },
  {
   "cell_type": "code",
   "execution_count": null,
   "metadata": {},
   "outputs": [],
   "source": [
    "from scipy.ndimage import gaussian_filter\n",
    "\n",
    "tile_smoothed_hists = []\n",
    "tile_bins = []\n",
    "plt.figure(figsize=(9,6))\n",
    "# images[images>1000]=0\n",
    "for itile in range(8):\n",
    "    avg_pixel_val = np.sum(images[itile])/(512.*1024.*n_images)\n",
    "    print 'Average pixel value: ',avg_pixel_val\n",
    "    hists, bins = np.histogram(images[itile],bins=500)\n",
    "    smoothed_hists = gaussian_filter(hists,sigma=2)\n",
    "#     smoothed_hists[smoothed_hists<10]=0\n",
    "    plt.semilogy(bins[:-1],smoothed_hists, label='Tile %d' %itile, linewidth=3)\n",
    "    tile_smoothed_hists.append(smoothed_hists)\n",
    "    tile_bins.append(bins[:-1])\n",
    "plt.legend(fontsize=15)\n",
    "plt.rc('font',size=20)\n",
    "ax = plt.gca()\n",
    "ax.tick_params(which='major',width=2, length=8)\n",
    "ax.tick_params(which='minor',width=1, length=5)\n",
    "plt.xlabel('Pixel Value (adu)')\n",
    "plt.ylabel('Counts')\n",
    "plt.title('Tile Histograms',fontsize=20)\n",
    "# plt.savefig('tile_histograms_dark.png')\n",
    "plt.show()"
   ]
  },
  {
   "cell_type": "markdown",
   "metadata": {},
   "source": [
    "### Find peaks for each tile"
   ]
  },
  {
   "cell_type": "code",
   "execution_count": null,
   "metadata": {},
   "outputs": [],
   "source": [
    "from scipy.signal import find_peaks\n",
    "for itile in range(8):\n",
    "    peaks, properties = find_peaks(tile_smoothed_hists[itile])\n",
    "    peaks_pixelvals = tile_bins[itile][peaks]\n",
    "    print peaks_pixelvals[(peaks_pixelvals>550)&(peaks_pixelvals<700)], tile_smoothed_hists[itile][peaks]"
   ]
  },
  {
   "cell_type": "markdown",
   "metadata": {},
   "source": [
    "### Which tiles have fewer X-ray hits? (the outer ones)"
   ]
  },
  {
   "cell_type": "code",
   "execution_count": null,
   "metadata": {},
   "outputs": [],
   "source": [
    "plt.figure(figsize=(9,6))\n",
    "plt.semilogy(tile_bins[0],tile_smoothed_hists[0], '--',label='Tile 0',linewidth=3)\n",
    "plt.semilogy(tile_bins[1],tile_smoothed_hists[1], label='Tile 1',linewidth=3)\n",
    "plt.semilogy(tile_bins[2],tile_smoothed_hists[2], label='Tile 2',linewidth=3)\n",
    "plt.semilogy(tile_bins[3],tile_smoothed_hists[3], '--',label='Tile 3',linewidth=3)\n",
    "plt.semilogy(tile_bins[4],tile_smoothed_hists[4], '--',label='Tile 4',linewidth=3)\n",
    "plt.semilogy(tile_bins[5],tile_smoothed_hists[5], label='Tile 5',linewidth=3)\n",
    "plt.semilogy(tile_bins[6],tile_smoothed_hists[6],label='Tile 6',linewidth=3)\n",
    "plt.semilogy(tile_bins[7],tile_smoothed_hists[7], '--',label='Tile 7',linewidth=3)\n",
    "plt.legend(fontsize=15)\n",
    "plt.rc('font',size=20)\n",
    "ax = plt.gca()\n",
    "ax.tick_params(which='major',width=2, length=8)\n",
    "ax.tick_params(which='minor',width=1, length=5)\n",
    "plt.xlabel('Pixel Value (adu)')\n",
    "plt.ylabel('Counts')\n",
    "plt.title('Tile Histograms')\n",
    "plt.show()"
   ]
  },
  {
   "cell_type": "markdown",
   "metadata": {},
   "source": [
    "### Does an x-ray hit leak into the adjacent pixels?"
   ]
  },
  {
   "cell_type": "code",
   "execution_count": null,
   "metadata": {},
   "outputs": [],
   "source": [
    "print np.mean(images)"
   ]
  },
  {
   "cell_type": "code",
   "execution_count": null,
   "metadata": {},
   "outputs": [],
   "source": [
    "images_thresh = np.copy(images)\n",
    "images_thresh[images_thresh<50]=0\n",
    "images_unthresh = np.copy(images)"
   ]
  },
  {
   "cell_type": "code",
   "execution_count": null,
   "metadata": {},
   "outputs": [],
   "source": [
    "center_val = 300\n",
    "hit_indices = np.argwhere((images>center_val-10)&(images<center_val+10))\n",
    "print hit_indices.shape"
   ]
  },
  {
   "cell_type": "code",
   "execution_count": null,
   "metadata": {},
   "outputs": [],
   "source": [
    "meanvals = []\n",
    "allvals = []\n",
    "sumvals = []\n",
    "step = 1\n",
    "images = images_unthresh\n",
    "for index in hit_indices:\n",
    "    if index[1]<step or index[1]>510-step or index[2]<step or index[2]>1022-step:\n",
    "        continue\n",
    "    x1 = tuple(index + np.array([0,step,0,0]))\n",
    "    x2 = tuple(index - np.array([0,step,0,0]))\n",
    "    y1 = tuple(index + np.array([0,0,step,0]))\n",
    "    y2 = tuple(index - np.array([0,0,step,0]))\n",
    "    x1y1 = tuple(index + np.array([0,step,step,0]))\n",
    "    x1y2 = tuple(index + np.array([0,step,-step,0]))\n",
    "    x2y1 = tuple(index + np.array([0,-step,step,0]))\n",
    "    x2y2 = tuple(index + np.array([0,-step,-step,0]))\n",
    "    \n",
    "    meanval = (images[x1]+images[x2]+images[y1]+images[y2])/4\n",
    "    allvals.append(images[x1])\n",
    "    allvals.append(images[x2])\n",
    "    allvals.append(images[y1])\n",
    "    allvals.append(images[y2])\n",
    "    allvals.append(images[x1y1])\n",
    "    allvals.append(images[x1y2])\n",
    "    allvals.append(images[x2y1])\n",
    "    allvals.append(images[x2y2])\n",
    "    sumvals.append(images[x1]+images[x2]+images[y1]+images[y2]\n",
    "                  +images[x1y1]+images[x1y2]+images[x2y1]+images[x2y2]\n",
    "                  +images[tuple(index)])\n",
    "    meanvals.append(meanval)\n",
    "print np.mean(meanvals)\n",
    "exec('allvals%d = allvals' %step)\n",
    "\n",
    "meanvals = []\n",
    "allvals = []\n",
    "step = 2\n",
    "for index in hit_indices:\n",
    "    if index[1]<step or index[1]>510-step or index[2]<step or index[2]>1022-step:\n",
    "        continue\n",
    "    x1 = tuple(index + np.array([0,step,0,0]))\n",
    "    x2 = tuple(index - np.array([0,step,0,0]))\n",
    "    y1 = tuple(index + np.array([0,0,step,0]))\n",
    "    y2 = tuple(index - np.array([0,0,step,0]))\n",
    "    x1y1 = tuple(index + np.array([0,step,step,0]))\n",
    "    x1y2 = tuple(index + np.array([0,step,-step,0]))\n",
    "    x2y1 = tuple(index + np.array([0,-step,step,0]))\n",
    "    x2y2 = tuple(index + np.array([0,-step,-step,0]))\n",
    "    \n",
    "    meanval = (images[x1]+images[x2]+images[y1]+images[y2])/4\n",
    "    allvals.append(images[x1])\n",
    "    allvals.append(images[x2])\n",
    "    allvals.append(images[y1])\n",
    "    allvals.append(images[y2])\n",
    "    allvals.append(images[x1y1])\n",
    "    allvals.append(images[x1y2])\n",
    "    allvals.append(images[x2y1])\n",
    "    allvals.append(images[x2y2])\n",
    "    meanvals.append(meanval)\n",
    "print np.mean(meanvals)\n",
    "exec('allvals%d = allvals' %step)"
   ]
  },
  {
   "cell_type": "code",
   "execution_count": null,
   "metadata": {},
   "outputs": [],
   "source": [
    "print len(allvals2)"
   ]
  },
  {
   "cell_type": "code",
   "execution_count": null,
   "metadata": {},
   "outputs": [],
   "source": [
    "allhists1, allbins1 = np.histogram(allvals1,bins=100)\n",
    "allhists2, allbins2 = np.histogram(allvals2,bins=100)\n",
    "plt.figure(figsize=(9,6))\n",
    "plt.semilogy(allbins1[:-1],allhists1,label='Step=1',linewidth=3)\n",
    "plt.semilogy(allbins2[:-1],allhists2,label='Step=2',linewidth=3)\n",
    "plt.legend()\n",
    "ax = plt.gca()\n",
    "ax.tick_params(which='major',width=2, length=8)\n",
    "ax.tick_params(which='minor',width=1, length=5)\n",
    "plt.xlabel('Pixel Value (adu)')\n",
    "plt.ylabel('Counts')\n",
    "plt.title(r'Pixels adjacent to %d $\\pm$ 10 adu'%center_val)\n",
    "plt.show()"
   ]
  },
  {
   "cell_type": "code",
   "execution_count": null,
   "metadata": {},
   "outputs": [],
   "source": [
    "sumhists, sumbins = np.histogram(sumvals,bins=1000)\n",
    "smoothed_sumhists = gaussian_filter(sumhists,sigma=5)\n",
    "sumpeaks, properties = find_peaks(smoothed_sumhists)\n",
    "print 'Peak locations (with smoothing): ',sumbins[sumpeaks]\n",
    "plt.figure(figsize=(9,6))\n",
    "plt.semilogy(sumbins[:-1],sumhists,label='Sum',linewidth=2.5)\n",
    "plt.legend()\n",
    "ax = plt.gca()\n",
    "ax.tick_params(which='major',width=2, length=8)\n",
    "ax.tick_params(which='minor',width=1, length=5)\n",
    "plt.xlabel('Pixel Sum (adu)')\n",
    "plt.ylabel('Counts')\n",
    "plt.title(r'Sum around %d $\\pm$ 10 adu'%center_val)\n",
    "plt.show()"
   ]
  },
  {
   "cell_type": "code",
   "execution_count": null,
   "metadata": {},
   "outputs": [],
   "source": []
  }
 ],
 "metadata": {
  "kernelspec": {
   "display_name": "LCLS-I py2",
   "language": "python",
   "name": "ana1-current"
  },
  "language_info": {
   "codemirror_mode": {
    "name": "ipython",
    "version": 2
   },
   "file_extension": ".py",
   "mimetype": "text/x-python",
   "name": "python",
   "nbconvert_exporter": "python",
   "pygments_lexer": "ipython2",
   "version": "2.7.15"
  }
 },
 "nbformat": 4,
 "nbformat_minor": 2
}
