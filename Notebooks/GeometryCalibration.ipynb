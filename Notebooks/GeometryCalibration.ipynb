{
 "cells": [
  {
   "cell_type": "code",
   "execution_count": null,
   "metadata": {},
   "outputs": [],
   "source": [
    "import numpy as np\n",
    "from matplotlib import pyplot as plt\n",
    "import matplotlib.colors as colors\n",
    "import psana\n",
    "import h5py\n",
    "\n",
    "import os\n",
    "import sys\n",
    "\n",
    "from center_finding import *"
   ]
  },
  {
   "cell_type": "markdown",
   "metadata": {},
   "source": [
    "## Get x and y coordinates"
   ]
  },
  {
   "cell_type": "code",
   "execution_count": null,
   "metadata": {},
   "outputs": [],
   "source": [
    "experiment='cxilw1118'\n",
    "runNumber=12\n",
    "# Set the installation and output path\n",
    "os.environ['INSTALLPATH']= '/cds/home/i/igabalsk/TRXS-Run18'\n",
    "os.environ['OUTPUTPATH']= '/cds/data/psdm/%s/%s/scratch' % (experiment[0:3],experiment)\n",
    "sys.path.insert(0, os.environ['INSTALLPATH']+'/Libraries/LCLS')\n",
    "from dataAnalysis import *\n",
    "sys.path.insert(0, os.environ['INSTALLPATH']+'/Libraries/mattsLibraries')\n",
    "from plotStyles import *\n",
    "sys.path.insert(0, os.environ['INSTALLPATH']+'/Libraries/pythonBatchMagic')\n",
    "from pythonBatchMagic import *\n",
    "\n",
    "x,y = CSPADgeometry(detType='Jungfrau', run=runNumber, experiment=experiment)"
   ]
  },
  {
   "cell_type": "markdown",
   "metadata": {},
   "source": [
    "# Load an image from PSANA"
   ]
  },
  {
   "cell_type": "code",
   "execution_count": null,
   "metadata": {
    "scrolled": true
   },
   "outputs": [],
   "source": [
    "# Create a data source to grab data from\n",
    "ds = psana.DataSource('exp=%s:run=%d:smd' % (experiment , runNumber) )\n",
    "\n",
    "data = None\n",
    "nsum = 0\n",
    "# Iterate through events\n",
    "nevent = 0\n",
    "evr = psana.Detector('evr1')\n",
    "jf = psana.Detector('jungfrau4M')\n",
    "for evt in ds.events():\n",
    "    nevent+=1\n",
    "    jfimg = jf.calib(evt,mbits=39)\n",
    "    if jfimg is not None:\n",
    "        jfimg[(jfimg<100.)|(jfimg>1000)] = 0.\n",
    "        if data is None:\n",
    "            data = jfimg\n",
    "            nsum = 1\n",
    "        else:\n",
    "#             jfimg[jfimg<200]=0\n",
    "#             jfimg[jfimg>200]=400\n",
    "            data += jfimg\n",
    "            nsum += 1\n",
    "    if nevent%100==0:\n",
    "        print nevent\n",
    "    if nevent==1000: break\n",
    "print 'Processed',nevent,'events.' \n",
    "# data = data/float(nsum)"
   ]
  },
  {
   "cell_type": "markdown",
   "metadata": {},
   "source": [
    "## Plot raw image"
   ]
  },
  {
   "cell_type": "code",
   "execution_count": null,
   "metadata": {},
   "outputs": [],
   "source": [
    "# %matplotlib notebook # Might need to be replaced by \"%matplotlib inline\" jupyterlab\n",
    "\n",
    "plt.figure(figsize=(7,6))\n",
    "for i in np.arange(8):\n",
    "    plt.pcolormesh(x[i],y[i],data[i,:,:],vmin=0,vmax=1e3) # Color scale limits might need adjustment\n",
    "plt.colorbar()\n",
    "# plt.savefig('asymmetry-run%d.png' % runNumber)\n",
    "plt.show()"
   ]
  },
  {
   "cell_type": "markdown",
   "metadata": {},
   "source": [
    "## Mask off horizontal and vertical stripes"
   ]
  },
  {
   "cell_type": "code",
   "execution_count": null,
   "metadata": {},
   "outputs": [],
   "source": [
    "mask = np.ones_like(data)\n",
    "mask[:,255:257,:] = np.nan\n",
    "mask[:,0:2,:] = np.nan\n",
    "mask[:,511,:] = np.nan\n",
    "mask[:,:,0] = np.nan\n",
    "mask[:,:,255:257] = np.nan\n",
    "mask[:,:,511:513] = np.nan\n",
    "mask[:,:,767:769] = np.nan\n",
    "mask[:,:,1023] = np.nan\n",
    "\n",
    "# corrections_file = '/cds/home/i/igabalsk/TRXS-Run18/Libraries/Corrections.mat'\n",
    "\n",
    "# corrections = {}\n",
    "# with h5py.File(corrections_file, 'r') as f:\n",
    "#     for key, val in f.items():\n",
    "#         corrections[key] = np.array(val)\n",
    "# print corrections.keys()\n",
    "# for key in corrections.keys():\n",
    "#     if corrections[key].shape==(1024,512,8):\n",
    "#         corrections[key]=corrections[key].transpose(2,1,0)\n",
    "#     elif corrections[key].shape==(1,8*512*1024):\n",
    "#         corrections[key]=np.reshape(corrections[key], (1024,512,8)).transpose(2,1,0)\n",
    "#     print key, corrections[key].shape\n",
    "\n",
    "plt.figure(figsize=(7,6))\n",
    "for i in np.arange(8):\n",
    "    plt.pcolormesh(x[i],y[i],(data*mask)[i,:,:],vmin=0,vmax=1e4)\n",
    "plt.colorbar()\n",
    "plt.show()\n",
    "\n",
    "masked_data = data*mask\n",
    "masked_data[np.isnan(masked_data) | (masked_data<0) | (masked_data>1000)]=0\n",
    "hists,bins = np.histogram(masked_data,bins=1000)\n",
    "plt.figure()\n",
    "plt.semilogy(bins[:-1],hists)\n",
    "plt.show()"
   ]
  },
  {
   "cell_type": "markdown",
   "metadata": {},
   "source": [
    "## Find center of diffraction pattern"
   ]
  },
  {
   "cell_type": "code",
   "execution_count": null,
   "metadata": {},
   "outputs": [],
   "source": [
    "# The center is fitted here for a number of intensity ranges.\n",
    "\n",
    "#Intensity ranges of the points for the center fitting, might need to be adjusted.\n",
    "print np.nanmean(data), np.nanstd(data)\n",
    "\n",
    "# CH2BrI\n",
    "# lbounds = np.arange(6,12.5,0.5)\n",
    "# ubounds = lbounds + 0.1\n",
    "# Xe\n",
    "# lbounds = np.arange(3,8.5,0.5)\n",
    "# ubounds = lbounds + 0.1\n",
    "# SF6\n",
    "lbounds = np.arange(1,12,1)\n",
    "ubounds = lbounds + 0.1\n",
    "# CS2\n",
    "# lbounds = np.arange(0.5,1.2,0.05)\n",
    "# ubounds = lbounds + 0.005\n",
    "\n",
    "xcenters = np.zeros_like(lbounds)\n",
    "ycenters = np.zeros_like(lbounds)\n",
    "for i in np.arange(len(lbounds)):\n",
    "    xcenter,ycenter,inds = find_center(x,y,(data*mask/1e3),lbounds[i],ubounds[i])\n",
    "    xcenters[i] = xcenter\n",
    "    ycenters[i] = ycenter"
   ]
  },
  {
   "cell_type": "code",
   "execution_count": null,
   "metadata": {},
   "outputs": [],
   "source": [
    "# Plot intensity range dependence of diffraction center:\n",
    "plt.figure()\n",
    "plt.plot(lbounds,xcenters,'.',label='Center x')\n",
    "plt.plot(lbounds,ycenters,'.',label='Center y')\n",
    "plt.xlabel('Intensity of pixels for ring fit')\n",
    "plt.ylabel('Center Pixel')\n",
    "plt.legend(loc='best')\n",
    "plt.title('Dependence of fitted diffraction center on pixel intensity for ring-fitting')\n",
    "plt.show()"
   ]
  },
  {
   "cell_type": "code",
   "execution_count": null,
   "metadata": {},
   "outputs": [],
   "source": [
    "xcenter = np.mean(xcenters[1:-1])\n",
    "ycenter = np.mean(ycenters[1:-1])\n",
    "print xcenter,ycenter"
   ]
  },
  {
   "cell_type": "markdown",
   "metadata": {},
   "source": [
    "## Load isotropic scattering from sample molecule (usually SF6)"
   ]
  },
  {
   "cell_type": "code",
   "execution_count": null,
   "metadata": {
    "scrolled": false
   },
   "outputs": [],
   "source": [
    "import h5py\n",
    "from numpy.linalg import norm\n",
    "\n",
    "molecule = 'SF6'\n",
    "folder = '/cds/home/i/igabalsk/xray/diffraction_simulation/'\n",
    "filepath = folder+'isotropic_scattering_%s.h5' % molecule\n",
    "\n",
    "isotropic_scattering_dict = {}\n",
    "with h5py.File(filepath,'r') as f:\n",
    "    for name, _ in f.items():\n",
    "        isotropic_scattering_dict[name]=f[name][()]\n",
    "\n",
    "corrections_dict = {}\n",
    "with h5py.File('/cds/home/i/igabalsk/TRXS-Run18/Libraries/Corrections_nightshift.mat','r') as f:\n",
    "    for name, _ in f.items():\n",
    "        corrections_dict[name]=f[name][()]\n",
    "        print name, corrections_dict[name].shape\n",
    "        \n",
    "QQ_1d = isotropic_scattering_dict['QQ_1d']\n",
    "isotropic_scattering_1d = isotropic_scattering_dict['isotropic_scattering_1d']\n",
    "QQx, QQy, QQz = isotropic_scattering_dict['QQx'], isotropic_scattering_dict['QQy'], isotropic_scattering_dict['QQz']\n",
    "QQ = isotropic_scattering_dict['QQ']\n",
    "\n",
    "from scipy.interpolate import interp1d\n",
    "\n",
    "ff = interp1d(QQ_1d,np.abs(isotropic_scattering_1d))\n",
    "def form_factor(q):\n",
    "    output = np.zeros_like(q)\n",
    "    output[q>np.max(QQ_1d)] = ff(np.max(QQ_1d))\n",
    "    output[q<np.min(QQ_1d)] = ff(np.min(QQ_1d))\n",
    "    output[(q<=np.max(QQ_1d))&(q>=np.min(QQ_1d))] = ff(q[(q<=np.max(QQ_1d))&(q>=np.min(QQ_1d))])\n",
    "    return output\n",
    "\n",
    "qs = np.linspace(np.min(QQ_1d),np.max(QQ_1d),1000)\n",
    "plt.figure()\n",
    "plt.semilogy(qs, form_factor(qs))\n",
    "plt.xlabel('Q',fontsize=15)\n",
    "plt.ylabel('f(Q) isotropic',fontsize=15)\n",
    "plt.title('Isotropic ensemble (%s)' % molecule, fontsize=20)\n",
    "plt.show()\n",
    "\n",
    "plt.figure(figsize=(7,6))\n",
    "plt.pcolormesh(QQx,QQy,form_factor(norm(QQ,axis=-1)),\n",
    "              norm=colors.LogNorm())\n",
    "plt.colorbar()\n",
    "plt.xlabel(r'$Q_x$',fontsize=15)\n",
    "plt.ylabel(r'$Q_y$',fontsize=15)\n",
    "plt.title('Isotropic ensemble (%s)' % molecule, fontsize=20)\n",
    "plt.show()"
   ]
  },
  {
   "cell_type": "markdown",
   "metadata": {},
   "source": [
    "## Define fitting function and helper functions"
   ]
  },
  {
   "cell_type": "code",
   "execution_count": null,
   "metadata": {},
   "outputs": [],
   "source": [
    "# constants\n",
    "joule_per_ev = 1.6e-19\n",
    "photon_energy = 15.155e3\n",
    "wavelength = 1240/photon_energy\n",
    "alpha_theory = -np.log(0.94668)/500\n",
    "print 'alpha =',alpha_theory\n",
    "\n",
    "# helper functions\n",
    "def theta_to_q(theta):\n",
    "    return 4*np.pi*np.sin(theta/2.)/(wavelength*10)\n",
    "def q_to_theta(q):\n",
    "    return 2*np.arcsin((wavelength*10*q)/(4*np.pi))\n",
    "def get_thomson_correction(x,y,z):\n",
    "    r_xy = np.sqrt(x**2+y**2)\n",
    "    theta = np.arctan(r_xy/z)\n",
    "    phi = np.arctan2(y,x)\n",
    "    correction = 1/(np.sin(phi)**2+np.cos(theta)**2*np.cos(phi)**2)\n",
    "    return correction\n",
    "def get_be_correction(x,y,z,alpha):\n",
    "    r_xy = np.sqrt(x**2+y**2)\n",
    "    theta = np.arctan(r_xy/z)\n",
    "    be_correction = np.exp(alpha*theta_to_z(theta))\n",
    "    return be_correction\n",
    "def get_geometry_correction(x,y,z):\n",
    "    # correction due to intensity falling off as 1/R**2\n",
    "    R2 = (x**2+y**2+z**2)/z**2\n",
    "    # correction due to flux through pixel area falling off with increased angle\n",
    "    r_xy = np.sqrt(x**2+y**2)\n",
    "    theta = np.arctan(r_xy/z)\n",
    "    A= 1/np.cos(theta)\n",
    "    return R2*A\n",
    "def xyz_to_phi(x,y,z):\n",
    "    return np.arctan2(y,x)\n",
    "\n",
    "# function to use with curve_fit\n",
    "def fitting_function(xy,xcenter,ycenter,z0,amplitude):\n",
    "    x = np.ravel(xy[0])\n",
    "    y = np.ravel(xy[1])\n",
    "    xcent = x-xcenter\n",
    "    ycent = y-ycenter\n",
    "    r_xy = np.sqrt(xcent**2+ycent**2)\n",
    "    theta = np.arctan(r_xy/z0)\n",
    "    Q_abs = theta_to_q(theta)\n",
    "    ff = amplitude*form_factor(Q_abs)\n",
    "    thomson_correction = 1/get_thomson_correction(xcent,ycent,z0)\n",
    "    geometry_correction = 1/get_geometry_correction(xcent,ycent,z0)\n",
    "    ff = ff*thomson_correction*geometry_correction\n",
    "    return ff\n",
    "\n",
    "# converts angle to distance through beryllium\n",
    "def theta_to_z(theta):\n",
    "    return 500/np.cos(theta)\n",
    "# function to use with curve_fit; alpha represents Be attenuation coefficient\n",
    "def fitting_function_freealpha(xy,xcenter,ycenter,z0,amplitude,alpha):\n",
    "    x = np.ravel(xy[0])\n",
    "    y = np.ravel(xy[1])\n",
    "    xcent = x-xcenter\n",
    "    ycent = y-ycenter\n",
    "    r_xy = np.sqrt(xcent**2+ycent**2)\n",
    "    theta = np.arctan(r_xy/z0)\n",
    "    Q_abs = theta_to_q(theta)\n",
    "    ff = amplitude*form_factor(Q_abs)\n",
    "    be_correction = np.exp(-alpha*theta_to_z(theta))\n",
    "    be_correction = be_correction/np.max(be_correction)\n",
    "    thomson_correction = 1/get_thomson_correction(xcent,ycent,z0)\n",
    "    geometry_correction = 1/get_geometry_correction(xcent,ycent,z0)\n",
    "    ff = ff*be_correction*thomson_correction*geometry_correction\n",
    "    return ff"
   ]
  },
  {
   "cell_type": "markdown",
   "metadata": {},
   "source": [
    "## Fit 2d pattern to functional form"
   ]
  },
  {
   "cell_type": "code",
   "execution_count": null,
   "metadata": {},
   "outputs": [],
   "source": [
    "from scipy.optimize import curve_fit\n",
    "\n",
    "x0, y0 = xcenter, ycenter\n",
    "z0 = 93000.\n",
    "alpha0 = 0.0006\n",
    "amplitude = 0.1\n",
    "\n",
    "# mask out area near optical axis\n",
    "goodmask = np.ones_like(mask).astype(bool)\n",
    "goodmask[np.isnan(mask)] = 0\n",
    "goodmask[np.sqrt(x**2+y**2)<20000]=0\n",
    "\n",
    "xgood = x[goodmask]\n",
    "ygood = y[goodmask]\n",
    "datagood = data[goodmask]\n",
    "xy = [xgood,ygood]\n",
    "\n",
    "params, covariances = curve_fit(fitting_function,xy,np.ravel(datagood),\n",
    "                                p0=[0,0,z0,amplitude],\n",
    "                                bounds=([-10000,-10000,30000,0],[10000,10000,100000,10000]))"
   ]
  },
  {
   "cell_type": "code",
   "execution_count": null,
   "metadata": {},
   "outputs": [],
   "source": [
    "for item in params:\n",
    "    print float(item)"
   ]
  },
  {
   "cell_type": "code",
   "execution_count": null,
   "metadata": {},
   "outputs": [],
   "source": [
    "def xyz_to_q(x,y,z):\n",
    "    r_xy = np.sqrt(x**2+y**2)\n",
    "    theta = np.arctan(r_xy/z)\n",
    "    Q_abs = theta_to_q(theta)\n",
    "    return Q_abs\n",
    "\n",
    "fit_pattern = np.reshape(fitting_function([x,y],*params),(8,512,1024))\n",
    "\n",
    "QQ_data = xyz_to_q(x-params[0],y-params[1],params[2])\n",
    "isotropic_data_1d = []\n",
    "isotropic_fit_1d = []\n",
    "QQ_1d_data = np.linspace(np.min(QQ_data),np.max(QQ_data),51)\n",
    "dQQ_1d_data = np.mean(np.diff(QQ_1d_data))\n",
    "QQ_1d_data = QQ_1d_data[:-1]\n",
    "for qval in QQ_1d_data:\n",
    "    isotropic_data_1d.append(np.mean(data[(QQ_data>qval)&(QQ_data<qval+dQQ_1d_data)]))\n",
    "    isotropic_fit_1d.append(np.mean(fit_pattern[(QQ_data>qval)&(QQ_data<qval+dQQ_1d_data)]))\n",
    "\n",
    "# with h5py.File('SF6data_for_Matt.h5','w') as f:\n",
    "#     f.create_dataset('QQ_1d',data=QQ_1d_data)\n",
    "#     f.create_dataset('isotropic_data_1d',data=isotropic_data_1d)\n",
    "#     f.create_dataset('isotropic_fit_1d',data=isotropic_fit_1d)\n",
    "#     f.create_dataset('params',data=params)\n",
    "\n",
    "plt.figure(figsize=(9,6))\n",
    "plt.semilogy(QQ_1d_data,isotropic_data_1d,'.',label='Data',markersize=12)\n",
    "plt.semilogy(QQ_1d_data,isotropic_fit_1d,label='Fit',linewidth=3)\n",
    "# plt.plot(QQ_1d_data, form_factor(QQ_1d_data))\n",
    "plt.legend(fontsize=15)\n",
    "plt.rc('font',size=20)\n",
    "ax = plt.gca()\n",
    "ax.tick_params(which='major',width=2, length=8)\n",
    "ax.tick_params(which='minor',width=1, length=5)\n",
    "plt.xlabel('Q (inv. Ang)')\n",
    "plt.ylabel('Intensity (arb)')\n",
    "plt.title('%s Calibration Run %d' % (molecule, runNumber))\n",
    "# plt.savefig('SF6_calibration_%.0f_%.3f_%.3f.png' % (params[0],params[1],params[2]), bbox_inches='tight')\n",
    "plt.show()"
   ]
  },
  {
   "cell_type": "code",
   "execution_count": null,
   "metadata": {
    "scrolled": false
   },
   "outputs": [],
   "source": [
    "dummydata = np.copy(data)\n",
    "dummydata[~goodmask]=0\n",
    "plt.figure(figsize=(7,6))\n",
    "for i in np.arange(8):\n",
    "    plt.pcolormesh(x[i],y[i],(dummydata)[i,:,:],vmin=0,vmax=np.max(fit_pattern)/10)\n",
    "plt.colorbar()\n",
    "plt.show()\n",
    "\n",
    "plt.figure(figsize=(7,6))\n",
    "for i in np.arange(8):\n",
    "    plt.pcolormesh(x[i],y[i],(fit_pattern)[i,:,:],vmin=0,vmax=np.max(fit_pattern)/10)\n",
    "plt.colorbar()\n",
    "plt.show()"
   ]
  },
  {
   "cell_type": "markdown",
   "metadata": {},
   "source": [
    "## Generate Q map and Thomson correction file"
   ]
  },
  {
   "cell_type": "code",
   "execution_count": null,
   "metadata": {},
   "outputs": [],
   "source": [
    "thomson_correction = get_thomson_correction(x-params[0],y-params[1],params[2])\n",
    "PHI = xyz_to_phi(x-params[0],y-params[1],params[2])\n",
    "geometry_correction = get_geometry_correction(x-params[0],y-params[1],params[2])\n",
    "\n",
    "with h5py.File('/cds/home/i/igabalsk/TRXS-Run18/Libraries/lu92_calibrations.h5','w') as f:\n",
    "    f.create_dataset('QQ',data=QQ_data)\n",
    "    f.create_dataset('PHI',data=PHI)\n",
    "    f.create_dataset('thomson_correction',data=thomson_correction)\n",
    "    f.create_dataset('geometry_correction',data=geometry_correction)\n",
    "\n",
    "plt.figure(figsize=(7,6))\n",
    "for i in np.arange(8):\n",
    "    plt.pcolormesh(x[i],y[i],(thomson_correction)[i,:,:],vmin=1,vmax=1.8)\n",
    "plt.colorbar()\n",
    "plt.title('Thomson correction')\n",
    "plt.show()\n",
    "\n",
    "plt.figure(figsize=(7,6))\n",
    "for i in np.arange(8):\n",
    "    plt.pcolormesh(x[i],y[i],(geometry_correction)[i,:,:],vmin=1,vmax=np.max(geometry_correction))\n",
    "plt.colorbar()\n",
    "plt.title('Geometry correction')\n",
    "plt.show()\n",
    "print 'Qmax=',np.max(QQ_data)"
   ]
  },
  {
   "cell_type": "code",
   "execution_count": null,
   "metadata": {},
   "outputs": [],
   "source": [
    "plt.figure(figsize=(7,6))\n",
    "for i in np.arange(8):\n",
    "    plt.pcolormesh(x[i],y[i],(QQ_data)[i,:,:],vmin=0,vmax=np.max(QQ_data))\n",
    "plt.colorbar()\n",
    "plt.title('Q map')\n",
    "plt.show()\n",
    "plt.figure(figsize=(7,6))\n",
    "for i in np.arange(8):\n",
    "    plt.pcolormesh(x[i],y[i],(PHI)[i,:,:],vmin=-np.pi,vmax=np.pi)\n",
    "plt.colorbar()\n",
    "plt.title('Phi map')\n",
    "plt.show()"
   ]
  },
  {
   "cell_type": "markdown",
   "metadata": {},
   "source": [
    "### Generate binning indices using Q, phi maps"
   ]
  },
  {
   "cell_type": "code",
   "execution_count": null,
   "metadata": {},
   "outputs": [],
   "source": [
    "print np.min(QQ), np.max(QQ)"
   ]
  },
  {
   "cell_type": "code",
   "execution_count": null,
   "metadata": {
    "scrolled": true
   },
   "outputs": [],
   "source": [
    "QQ = QQ_data\n",
    "\n",
    "Qmin, Qmax = 0.5, 4.5\n",
    "NQ = 100\n",
    "Qs = np.linspace(Qmin,Qmax,NQ)\n",
    "dQ = np.mean(np.diff(Qs))\n",
    "\n",
    "Nphi = 16\n",
    "phis = np.linspace(0,np.pi/2-(np.pi/2/Nphi),Nphi)\n",
    "dphi = np.mean(np.diff(phis))\n",
    "\n",
    "roi_indices = []\n",
    "\n",
    "for qidx, q in enumerate(Qs):\n",
    "    print 'Qidx: ',qidx\n",
    "    qrow = []\n",
    "    for phiidx, phi in enumerate(phis):\n",
    "        qphibin_mask = np.zeros((8,512,1024)).astype(bool)\n",
    "        qphibin_mask = qphibin_mask | ((QQ>=q)&(QQ<q+dQ)&(PHI>=phi)&(PHI<phi+dphi)&(~np.isnan(mask)))\n",
    "        qphibin_mask = qphibin_mask | ((QQ>=q)&(QQ<q+dQ)&(PHI<=-phi)&(PHI>-phi-dphi)&(~np.isnan(mask)))\n",
    "        qphibin_mask = qphibin_mask | ((QQ>=q)&(QQ<q+dQ)&(PHI>=np.pi-phi-dphi)&(PHI<np.pi-phi)&(~np.isnan(mask)))\n",
    "        qphibin_mask = qphibin_mask | ((QQ>=q)&(QQ<q+dQ)&(PHI>=phi-np.pi)&(PHI<phi-np.pi+dphi)&(~np.isnan(mask)))\n",
    "        qrow.append(np.nonzero(qphibin_mask))\n",
    "    roi_indices.append(qrow)\n",
    "binning_indices = BinningIndices(Qs,dQ,phis,dphi,roi_indices)\n",
    "save_obj(binning_indices,'/cds/home/i/igabalsk/TRXS-Run18/Libraries/binning_indices')"
   ]
  },
  {
   "cell_type": "code",
   "execution_count": null,
   "metadata": {},
   "outputs": [],
   "source": [
    "dummy = np.zeros((8,512,1024))\n",
    "n = 1\n",
    "for phiIdx in range(Nphi):\n",
    "    for qIdx in range(NQ/(2*n)):\n",
    "        if qIdx%2==0:\n",
    "            for j in range(n):\n",
    "                dummy[roi_indices[2*n*qIdx+j][phiIdx]]=1\n",
    "                dummy[roi_indices[2*n*qIdx+j+n][phiIdx]]=-1\n",
    "        else:\n",
    "            for j in range(n):\n",
    "                dummy[roi_indices[2*n*qIdx+j][phiIdx]]=-1\n",
    "                dummy[roi_indices[2*n*qIdx+j+n][phiIdx]]=1\n",
    "# phiIdx = 6\n",
    "# for qIdx in range(0,25):\n",
    "#     dummy[roi_indices[qIdx][phiIdx]]=1\n",
    "# for qIdx in range(25,50):\n",
    "#     dummy[roi_indices[qIdx][phiIdx]]=-1\n",
    "# for qIdx in range(50,75):\n",
    "#     dummy[roi_indices[qIdx][phiIdx]]=1\n",
    "# for qIdx in range(75,100):\n",
    "#     dummy[roi_indices[qIdx][phiIdx]]=-1"
   ]
  },
  {
   "cell_type": "code",
   "execution_count": null,
   "metadata": {},
   "outputs": [],
   "source": [
    "plt.figure(figsize=(10,8))\n",
    "for i in np.arange(8):\n",
    "    plt.pcolormesh(x[i],y[i],(dummy)[i,:,:],vmin=-1,vmax=1,cmap=plt.get_cmap('viridis'))\n",
    "plt.colorbar()\n",
    "plt.title(r'$(Q,\\phi)$ bins',fontsize=30)\n",
    "plt.show()\n",
    "print np.max(Qs)+np.mean(np.diff(Qs)), np.max(QQ_data)"
   ]
  },
  {
   "cell_type": "markdown",
   "metadata": {},
   "source": [
    "### Generate radial ROI binning indices"
   ]
  },
  {
   "cell_type": "code",
   "execution_count": null,
   "metadata": {
    "scrolled": true
   },
   "outputs": [],
   "source": [
    "RR = np.sqrt((x+1206)**2+(y+461)**2)\n",
    "\n",
    "Rmin, Rmax = 0, 1e5\n",
    "NR = 200\n",
    "Rs = np.linspace(Rmin,Rmax*(1-1./200),NR)\n",
    "dR = np.mean(np.diff(Rs))\n",
    "\n",
    "roi_indices = []\n",
    "\n",
    "for ridx, r in enumerate(Rs):\n",
    "    rrow = np.nonzero((RR>=r)&(RR<r+dR)&(~np.isnan(mask)))\n",
    "    print 'Ridx: ',ridx, np.array(rrow).shape\n",
    "    roi_indices.append(rrow)\n",
    "radial_binning_indices = BinningIndices(Rs,dR,[0],0,roi_indices)\n",
    "save_obj(radial_binning_indices,'/cds/home/i/igabalsk/TRXS-Run18/Libraries/radial_binning_indices')"
   ]
  },
  {
   "cell_type": "code",
   "execution_count": null,
   "metadata": {},
   "outputs": [],
   "source": [
    "dummy = np.zeros((8,512,1024))\n",
    "n = 1\n",
    "val = -1\n",
    "for ri in range(NR):\n",
    "    if ri%n==0:\n",
    "        val *= -1\n",
    "    dummy[roi_indices[ri]]=val"
   ]
  },
  {
   "cell_type": "code",
   "execution_count": null,
   "metadata": {},
   "outputs": [],
   "source": [
    "plt.figure(figsize=(10,8))\n",
    "for i in np.arange(8):\n",
    "    plt.pcolormesh(x[i],y[i],(dummy)[i,:,:],vmin=-1,vmax=1,cmap=plt.get_cmap('viridis'))\n",
    "plt.colorbar()\n",
    "plt.title(r'$(Q,\\phi)$ bins',fontsize=30)\n",
    "plt.show()"
   ]
  },
  {
   "cell_type": "code",
   "execution_count": null,
   "metadata": {},
   "outputs": [],
   "source": [
    "nate_mask_old = np.load('/cds/data/psdm/cxi/cxilv1118/results/nate/Mask_Jungfrau_57_58.npy')\n",
    "nate_mask_new = np.load('/cds/data/psdm/cxi/cxilv1118/results/nate/Mask_Jungfrau_107_109.npy')\n",
    "print float(len(nate_mask_old[nate_mask_old==1]))/len(nate_mask_old.flatten())\n",
    "print float(len(nate_mask_new[nate_mask_new==1]))/len(nate_mask_new.flatten())"
   ]
  },
  {
   "cell_type": "code",
   "execution_count": null,
   "metadata": {},
   "outputs": [],
   "source": [
    "print nate_mask_new.shape\n",
    "from scipy.ndimage import gaussian_filter\n",
    "gf = lambda x: gaussian_filter(x,1)\n",
    "plt.figure(figsize=(10,8))\n",
    "for i in np.arange(8):\n",
    "    plt.pcolormesh(x[i],y[i],(1-nate_mask_old)[i,:,:],vmin=0,vmax=1,cmap=plt.get_cmap('viridis'))\n",
    "plt.colorbar()\n",
    "plt.title(r'$(Q,\\phi)$ bins',fontsize=30)\n",
    "plt.show()"
   ]
  },
  {
   "cell_type": "code",
   "execution_count": null,
   "metadata": {},
   "outputs": [],
   "source": [
    "plt.figure()\n",
    "plt.hist(nate_mask_new.flatten(),bins=100)\n",
    "plt.show()\n",
    "print np.sum(nate_mask_new)/float(nate_mask_new.size)"
   ]
  },
  {
   "cell_type": "code",
   "execution_count": null,
   "metadata": {},
   "outputs": [],
   "source": []
  }
 ],
 "metadata": {
  "kernelspec": {
   "display_name": "LCLS-I py2",
   "language": "python",
   "name": "ana1-current"
  },
  "language_info": {
   "codemirror_mode": {
    "name": "ipython",
    "version": 2
   },
   "file_extension": ".py",
   "mimetype": "text/x-python",
   "name": "python",
   "nbconvert_exporter": "python",
   "pygments_lexer": "ipython2",
   "version": "2.7.15"
  }
 },
 "nbformat": 4,
 "nbformat_minor": 2
}
